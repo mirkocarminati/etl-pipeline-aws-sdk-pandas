{
 "cells": [
  {
   "cell_type": "code",
   "execution_count": null,
   "metadata": {
    "vscode": {
     "languageId": "plaintext"
    }
   },
   "outputs": [],
   "source": [
    "def lambda_handler(event, context):\n",
    "    bucket_name = event['detail']['bucket']['name']\n",
    "    object_key = event['detail']['object']['key']\n",
    "    print(f\"Bucket: {bucket_name}, Object Key: {object_key}\")\n",
    "\n",
    "    if not object_key.endswith('.json'):\n",
    "        return {\n",
    "            'statusCode': 200,\n",
    "            'body': f\"Object {object_key} is not a JSON file\"\n",
    "        }\n",
    "    \n",
    "    transaction = extract_data(bucket_name, object_key)\n",
    "    load_data(transaction, bucket_name, f\"extracted/transactions.snappy.parquet\")\n",
    "\n",
    "    return {\n",
    "        'statusCode': 200,\n",
    "        'body': f\"Processed object {object_key} from bucket {bucket_name}\"\n",
    "    }"
   ]
  }
 ],
 "metadata": {
  "language_info": {
   "name": "python"
  }
 },
 "nbformat": 4,
 "nbformat_minor": 2
}
