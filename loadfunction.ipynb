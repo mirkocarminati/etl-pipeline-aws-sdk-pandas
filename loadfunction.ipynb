{
 "cells": [
  {
   "cell_type": "code",
   "execution_count": null,
   "metadata": {
    "vscode": {
     "languageId": "plaintext"
    }
   },
   "outputs": [],
   "source": [
    "def load_data(transaction, bucket, prefix):\n",
    "    transaction_id = transaction.at[0, \"transaction_id\"]\n",
    "    date = pd.Timestamp.now().strftime(\"%Y/%m/%d\")\n",
    "    key = \"/\".join([prefix, date, f\"{transaction_id}.parquet\"])\n",
    "    wr.s3.to_parquet(df=transaction, path=f\"s3://{bucket}/{key}\", dataset=False)"
   ]
  }
 ],
 "metadata": {
  "language_info": {
   "name": "python"
  }
 },
 "nbformat": 4,
 "nbformat_minor": 2
}
