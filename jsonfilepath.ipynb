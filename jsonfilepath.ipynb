{
 "cells": [
  {
   "cell_type": "code",
   "execution_count": null,
   "metadata": {
    "vscode": {
     "languageId": "plaintext"
    }
   },
   "outputs": [],
   "source": [
    "import boto3\n",
    "\n",
    "bucket_name = boto3.client('s3').list_buckets()['Buckets'][0]['Name']\n",
    "s3 = boto3.resource('s3')\n",
    "bucket = s3.Bucket(bucket_name)\n",
    "json_objects = [obj.key for obj in bucket.objects.filter(Prefix='transactions') if obj.key.endswith('.json')]"
   ]
  }
 ],
 "metadata": {
  "language_info": {
   "name": "python"
  }
 },
 "nbformat": 4,
 "nbformat_minor": 2
}
